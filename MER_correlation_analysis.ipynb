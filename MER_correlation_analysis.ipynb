{
 "metadata": {
  "name": "",
  "signature": "sha256:e9544c36ef7637dbfb87d78e2ccf4b3034970f78923b3a2fc759297a32e8e3d5"
 },
 "nbformat": 3,
 "nbformat_minor": 0,
 "worksheets": [
  {
   "cells": [
    {
     "cell_type": "markdown",
     "metadata": {},
     "source": [
      "# Analysis of correlation between average view time, easiness rating, and exam score"
     ]
    },
    {
     "cell_type": "markdown",
     "metadata": {},
     "source": [
      "<table border=0>\n",
      "<tr>\n",
      "<th> Main page: </th> <td> <a href=http://wiki.ubc.ca/Science:Math_Education_Resources> wiki.ubc.ca/Science:Math_Education_Resources </a> </td>\n",
      "<td rowspan=4> <img src=https://raw.github.com/MER-wiki/google-analytics/master/Math_kid.jpg width=290> </td>\n",
      "</tr>\n",
      "<tr>\n",
      "<th> Contributors portal: </th> <td> <a href=http://wiki.ubc.ca/Science:MER> wiki.ubc.ca/Science:MER </a></td>\n",
      "</tr>\n",
      "<tr>\n",
      "<th> Source of data: </th> <td> google analytics, easiness rating, exam score </td>\n",
      "</tr>\n",
      "<th> Contact info: </th> <td> mer-wiki (at) math (dot) ubc (dot) ca </td>\n",
      "</tr>\n",
      "</table>\n",
      "\n",
      "* Founded 2012\n",
      "* Solved more than 1200 questions, 49 exams\n",
      "* More than 1 Million pageviews, 4.5 year spent on the resource in total\n",
      "* Very popular during exam time (and increasingly during the term)\n",
      "* steady growth of overall usage\n",
      "* Rated as most effective in Math Learning, ahead of homework, lecture, textook.\n",
      "\n",
      "[More detailed usage stats](http://wiki.ubc.ca/Science:Math_Exam_Resources/Usage)"
     ]
    },
    {
     "cell_type": "markdown",
     "metadata": {},
     "source": [
      "## Questions we want to answer\n",
      "\n",
      "1. Do students spend more time on more difficult questions?\n",
      "2. How well can students tell easy from difficult questions?\n",
      "3. What can we learn from the students' perception for future course and exam design?"
     ]
    },
    {
     "cell_type": "markdown",
     "metadata": {},
     "source": [
      "First, let's read in the data:"
     ]
    },
    {
     "cell_type": "code",
     "collapsed": false,
     "input": [
      "%%capture\n",
      "import pandas as pd\n",
      "import matplotlib.pyplot as plt\n",
      "import numpy as np\n",
      "import sys\n",
      "import os\n",
      "from MERhelpers import data_to_dict_clickdates_clickscount\n",
      "from scipy import stats\n",
      "%pylab inline\n",
      "\n",
      "\n",
      "# We obtain `data/all_questions.csv` from the html source of the webpage for each question.\n",
      "%less data/all_questions.csv\n",
      "# This is done in a helper script:\n",
      "#%run MER2csv.py\n",
      "df_all = pd.read_csv(os.path.join('data','all_questions.csv'), header=None,\n",
      "                     names=['url', 'course', 'exam', 'q_short', 'num_votes',\n",
      "                            'rating', 'num_hints', 'num_sols'])\n",
      "df_with_rating = df_all[df_all.num_votes > 0]\n",
      "df_with_rating.head(5)"
     ],
     "language": "python",
     "metadata": {},
     "outputs": [
      {
       "html": [
        "<div style=\"max-height:1000px;max-width:1500px;overflow:auto;\">\n",
        "<table border=\"1\" class=\"dataframe\">\n",
        "  <thead>\n",
        "    <tr style=\"text-align: right;\">\n",
        "      <th></th>\n",
        "      <th>url</th>\n",
        "      <th>course</th>\n",
        "      <th>exam</th>\n",
        "      <th>q_short</th>\n",
        "      <th>num_votes</th>\n",
        "      <th>rating</th>\n",
        "      <th>num_hints</th>\n",
        "      <th>num_sols</th>\n",
        "    </tr>\n",
        "  </thead>\n",
        "  <tbody>\n",
        "    <tr>\n",
        "      <th>0</th>\n",
        "      <td> http://wiki.ubc.ca/Science:Math_Exam_Resources...</td>\n",
        "      <td> MATH100</td>\n",
        "      <td> December_2013</td>\n",
        "      <td> 1 (a)</td>\n",
        "      <td> 1</td>\n",
        "      <td> 95</td>\n",
        "      <td> 1</td>\n",
        "      <td> 1</td>\n",
        "    </tr>\n",
        "    <tr>\n",
        "      <th>1</th>\n",
        "      <td> http://wiki.ubc.ca/Science:Math_Exam_Resources...</td>\n",
        "      <td> MATH100</td>\n",
        "      <td> December_2013</td>\n",
        "      <td> 1 (b)</td>\n",
        "      <td> 1</td>\n",
        "      <td> 90</td>\n",
        "      <td> 2</td>\n",
        "      <td> 1</td>\n",
        "    </tr>\n",
        "    <tr>\n",
        "      <th>2</th>\n",
        "      <td> http://wiki.ubc.ca/Science:Math_Exam_Resources...</td>\n",
        "      <td> MATH100</td>\n",
        "      <td> December_2013</td>\n",
        "      <td> 1 (c)</td>\n",
        "      <td> 1</td>\n",
        "      <td> 85</td>\n",
        "      <td> 2</td>\n",
        "      <td> 1</td>\n",
        "    </tr>\n",
        "    <tr>\n",
        "      <th>3</th>\n",
        "      <td> http://wiki.ubc.ca/Science:Math_Exam_Resources...</td>\n",
        "      <td> MATH100</td>\n",
        "      <td> December_2013</td>\n",
        "      <td> 1 (d)</td>\n",
        "      <td> 1</td>\n",
        "      <td> 92</td>\n",
        "      <td> 2</td>\n",
        "      <td> 1</td>\n",
        "    </tr>\n",
        "    <tr>\n",
        "      <th>4</th>\n",
        "      <td> http://wiki.ubc.ca/Science:Math_Exam_Resources...</td>\n",
        "      <td> MATH100</td>\n",
        "      <td> December_2013</td>\n",
        "      <td> 2 (a)</td>\n",
        "      <td> 2</td>\n",
        "      <td> 90</td>\n",
        "      <td> 2</td>\n",
        "      <td> 1</td>\n",
        "    </tr>\n",
        "  </tbody>\n",
        "</table>\n",
        "</div>"
       ],
       "metadata": {},
       "output_type": "pyout",
       "prompt_number": 9,
       "text": [
        "                                                 url   course           exam  \\\n",
        "0  http://wiki.ubc.ca/Science:Math_Exam_Resources...  MATH100  December_2013   \n",
        "1  http://wiki.ubc.ca/Science:Math_Exam_Resources...  MATH100  December_2013   \n",
        "2  http://wiki.ubc.ca/Science:Math_Exam_Resources...  MATH100  December_2013   \n",
        "3  http://wiki.ubc.ca/Science:Math_Exam_Resources...  MATH100  December_2013   \n",
        "4  http://wiki.ubc.ca/Science:Math_Exam_Resources...  MATH100  December_2013   \n",
        "\n",
        "  q_short  num_votes rating  num_hints  num_sols  \n",
        "0   1 (a)          1     95          1         1  \n",
        "1   1 (b)          1     90          2         1  \n",
        "2   1 (c)          1     85          2         1  \n",
        "3   1 (d)          1     92          2         1  \n",
        "4   2 (a)          2     90          2         1  "
       ]
      }
     ],
     "prompt_number": 9
    },
    {
     "cell_type": "markdown",
     "metadata": {},
     "source": [
      "To get a sense of what the rating data is like, let's aggregate it in a **histogram**."
     ]
    },
    {
     "cell_type": "code",
     "collapsed": false,
     "input": [
      "all_avg_ratings = df_with_rating['rating'].astype(float).values\n",
      "plt.hist(all_avg_ratings, bins=101)\n",
      "plt.title('%d easiness votes' % sum(df_with_rating['num_votes']))\n",
      "plt.xlabel('Average easiness rating (0=hard, 100=easy)')\n",
      "plt.ylabel('count')\n",
      "plt.annotate('Mean easiness: %.1f \\nMedian easiness: %.1f' % (np.mean(all_avg_ratings),\n",
      "                                                                np.median(all_avg_ratings)),\n",
      "             xy=(20, 40))\n",
      "plt.show()"
     ],
     "language": "python",
     "metadata": {},
     "outputs": [
      {
       "metadata": {},
       "output_type": "display_data",
       "png": "[encoded data removed]",
       "text": [
        "<matplotlib.figure.Figure at 0x7f96604cf4d0>"
       ]
      }
     ],
     "prompt_number": 10
    },
    {
     "cell_type": "markdown",
     "metadata": {},
     "source": [
      "We see that 100% easiness is by far the **most popular single rating**. In general, the majority of questions is rated on the easier side. It is also interesting to observe the spikes at **0, 20, 40, 50, 60, 70, 80, 90, 95**, indicating that many students vote on a simpler 11-scale basis instead of the provided 101 options."
     ]
    },
    {
     "cell_type": "markdown",
     "metadata": {},
     "source": [
      "### Add average time from Google Analyics"
     ]
    },
    {
     "cell_type": "code",
     "collapsed": false,
     "input": [
      "%less data/google_analytics_20140430.csv\n",
      "\n",
      "(dict_all, date_clicks,\n",
      " num_clicks) = data_to_dict_clickdates_clickscount(os.path.join('data','google_analytics_20140430.csv'))\n",
      "\n",
      "def add_time(url):\n",
      "    '''Returns avg_time for input question from google analytics'''\n",
      "    course, exam, question = url.split('/')[5:8]\n",
      "    try:\n",
      "        return dict_all[course][exam][question]['avg_time']\n",
      "    except KeyError:\n",
      "        try:\n",
      "            return dict_all[course][exam][question.replace('Question_0', 'Question_')]['avg_time']\n",
      "        except KeyError:\n",
      "            return None\n",
      "\n",
      "df_with_rating['time'] = df_with_rating['url'].apply(add_time)\n",
      "try:\n",
      "    df = df_with_rating.drop(['num_hints', 'num_sols'], axis=1, inplace=False).dropna()\n",
      "except ValueError:\n",
      "    pass\n",
      "df.head(5)"
     ],
     "language": "python",
     "metadata": {},
     "outputs": [
      {
       "html": [
        "<div style=\"max-height:1000px;max-width:1500px;overflow:auto;\">\n",
        "<table border=\"1\" class=\"dataframe\">\n",
        "  <thead>\n",
        "    <tr style=\"text-align: right;\">\n",
        "      <th></th>\n",
        "      <th>url</th>\n",
        "      <th>course</th>\n",
        "      <th>exam</th>\n",
        "      <th>q_short</th>\n",
        "      <th>num_votes</th>\n",
        "      <th>rating</th>\n",
        "      <th>time</th>\n",
        "    </tr>\n",
        "  </thead>\n",
        "  <tbody>\n",
        "    <tr>\n",
        "      <th>24</th>\n",
        "      <td> http://wiki.ubc.ca/Science:Math_Exam_Resources...</td>\n",
        "      <td> MATH100</td>\n",
        "      <td> December_2012</td>\n",
        "      <td> 1 (a)</td>\n",
        "      <td> 3</td>\n",
        "      <td> 83</td>\n",
        "      <td> 146</td>\n",
        "    </tr>\n",
        "    <tr>\n",
        "      <th>25</th>\n",
        "      <td> http://wiki.ubc.ca/Science:Math_Exam_Resources...</td>\n",
        "      <td> MATH100</td>\n",
        "      <td> December_2012</td>\n",
        "      <td> 1 (b)</td>\n",
        "      <td> 2</td>\n",
        "      <td> 89</td>\n",
        "      <td> 150</td>\n",
        "    </tr>\n",
        "    <tr>\n",
        "      <th>26</th>\n",
        "      <td> http://wiki.ubc.ca/Science:Math_Exam_Resources...</td>\n",
        "      <td> MATH100</td>\n",
        "      <td> December_2012</td>\n",
        "      <td> 1 (c)</td>\n",
        "      <td> 1</td>\n",
        "      <td> 95</td>\n",
        "      <td> 165</td>\n",
        "    </tr>\n",
        "    <tr>\n",
        "      <th>27</th>\n",
        "      <td> http://wiki.ubc.ca/Science:Math_Exam_Resources...</td>\n",
        "      <td> MATH100</td>\n",
        "      <td> December_2012</td>\n",
        "      <td> 2 (a)</td>\n",
        "      <td> 2</td>\n",
        "      <td> 98</td>\n",
        "      <td> 123</td>\n",
        "    </tr>\n",
        "    <tr>\n",
        "      <th>28</th>\n",
        "      <td> http://wiki.ubc.ca/Science:Math_Exam_Resources...</td>\n",
        "      <td> MATH100</td>\n",
        "      <td> December_2012</td>\n",
        "      <td> 2 (b)</td>\n",
        "      <td> 2</td>\n",
        "      <td> 91</td>\n",
        "      <td> 225</td>\n",
        "    </tr>\n",
        "  </tbody>\n",
        "</table>\n",
        "</div>"
       ],
       "metadata": {},
       "output_type": "pyout",
       "prompt_number": 11,
       "text": [
        "                                                  url   course           exam  \\\n",
        "24  http://wiki.ubc.ca/Science:Math_Exam_Resources...  MATH100  December_2012   \n",
        "25  http://wiki.ubc.ca/Science:Math_Exam_Resources...  MATH100  December_2012   \n",
        "26  http://wiki.ubc.ca/Science:Math_Exam_Resources...  MATH100  December_2012   \n",
        "27  http://wiki.ubc.ca/Science:Math_Exam_Resources...  MATH100  December_2012   \n",
        "28  http://wiki.ubc.ca/Science:Math_Exam_Resources...  MATH100  December_2012   \n",
        "\n",
        "   q_short  num_votes rating  time  \n",
        "24   1 (a)          3     83   146  \n",
        "25   1 (b)          2     89   150  \n",
        "26   1 (c)          1     95   165  \n",
        "27   2 (a)          2     98   123  \n",
        "28   2 (b)          2     91   225  "
       ]
      }
     ],
     "prompt_number": 11
    },
    {
     "cell_type": "markdown",
     "metadata": {},
     "source": [
      "We expect that the reason that students spend more time on a question page is because the question is harder.\n",
      "\n",
      "More formally, let's see if we **reject the Null Hypothesis**:\n",
      "> *The average time spent on a question page is independent of the perceived easiness of the question.*?"
     ]
    },
    {
     "cell_type": "code",
     "collapsed": false,
     "input": [
      "all_avg_ratings = df['rating'].values.astype(float)\n",
      "all_avg_times = df['time'].values.astype(float)\n",
      "slope, intercept, r_value, p_value, std_err = stats.linregress(all_avg_ratings, all_avg_times)\n",
      "\n",
      "line = slope*all_avg_ratings+intercept\n",
      "plt.figure(figsize=(12,3))\n",
      "plt.plot(all_avg_ratings, all_avg_times, 'ko', all_avg_ratings, line, 'r-')\n",
      "plt.xlabel('Average easiness rating (0=hard, 100=easy)')\n",
      "plt.ylabel('Average time spent on question page [seconds]')\n",
      "plt.annotate('$r^2$ = %.2f \\np = %.2e' % (r_value**2, p_value),\n",
      "             xy=(60, 650))\n",
      "plt.show()"
     ],
     "language": "python",
     "metadata": {},
     "outputs": [
      {
       "metadata": {},
       "output_type": "display_data",
       "png": "[encoded data removed]",
       "text": [
        "<matplotlib.figure.Figure at 0x7f9632a74550>"
       ]
      }
     ],
     "prompt_number": 12
    },
    {
     "cell_type": "markdown",
     "metadata": {},
     "source": [
      "> We see that indeed there is a negative correlation between the time spent on a question page and the perceived easiness! \n",
      "\n",
      "The **extremely small $p$-value** indicates that the null-hypothesis, that there is no correlation, can be rejected with overwhelming certainty.\n",
      "\n",
      "**However** the **$r^2$ value is also quite small**, which means that the predictive power of this correlation is quite limited. A loose interpretation of $r^2 = 0.15$ would be *\"Fifteen percent of the variation in the average time spent on the page can be explained by the average easiness rating of the question\"* (see wikipedia)."
     ]
    },
    {
     "cell_type": "markdown",
     "metadata": {},
     "source": [
      "## Conclusion on part 1\n",
      "\n",
      "1. Confirming our intuition, we find a negative correlation between the easiness rating of an exam question and the average time spent on the corresponding question page: **The easier the question, the less time is spent on the question page and vice versa.**\n",
      "\n",
      "2. At the same time, the **variability is quite large**, so that the average time spent on a page only predicts about 15% of the average easiness. On a per-question basis the predictive power of the average time spent on a question page to predict the average easiness of that question is therefore limited.\n",
      "\n",
      "3. There are many other factors that could influence the time spent on a page like:  \n",
      "  a. number, length and quality of hints and solutions,  \n",
      "  b. the course level,  \n",
      "  c. the interdependence of the question.\n",
      "  \n",
      "> **Overall, the time spent on a question page does not say much about the easiness.**"
     ]
    },
    {
     "cell_type": "markdown",
     "metadata": {},
     "source": [
      "## Correlation of the average rating with the average exam score\n",
      "\n",
      "Next, we would like to **compare easiness rating with actual exam score**. We have anonymous exam scores of one of the sections of the [Math 103 April 2013 Exam](http://wiki.ubc.ca/Science:Math_Exam_Resources/Courses/MATH103/April_2013). These exam scores will be compared to the [easiness rating of the April 2014 class](http://wiki.ubc.ca/Science:Math_Exam_Resources/Courses/MATH103/April_2013).\n",
      "\n",
      "> Our hypothesis is that the easiness score of the 2014 class is a good predictor for the exam score of the 2013 class.\n",
      "\n",
      "*If this holds, then the easiness score could provide valuable insight into student understanding and exam design.*\n",
      "\n",
      "We first **read in the average score** from the real exam and **add to the data frame**."
     ]
    },
    {
     "cell_type": "code",
     "collapsed": false,
     "input": [
      "def rename(x):\n",
      "    '''Renames question names from Exam data to be consistent with MER question format'''\n",
      "    if x[0:2] == '10':\n",
      "        x = 'Question_' + x.strip()\n",
      "    else:\n",
      "        x = 'Question_0' + x.strip()\n",
      "    if len(x) == 11:\n",
      "        return x\n",
      "    if len(x) == 12:\n",
      "        return x[:11] + '_(' + x[11] + ')'\n",
      "    if len(x) > 12:\n",
      "        return x[:11] + '_(' + x[11] + ')_' + x[12:]\n",
      "\n",
      "with open(os.path.join('data','MATH103_2013_FinalExamGradesPerQuestionAnonymous.csv'), 'r') as data:\n",
      "    for line in data:\n",
      "        if 'Q' == line[0]:\n",
      "            questions = [rename(q) for q in line.split(',')[1:]]\n",
      "        elif line[0] in ['M', 'S']:\n",
      "            continue\n",
      "        else: \n",
      "            scores = [float(s.strip()) for s in line.split(',')[1:]]\n",
      "assert len(questions) == len(scores)\n",
      "\n",
      "def add_exam_score(q_short):\n",
      "    '''Reads exam score from MER question_short format'''\n",
      "    for q_long, score in zip(questions, scores):\n",
      "        if q_short.replace(' ', '_') in q_long:\n",
      "            return score*100\n",
      "\n",
      "df_M103_2013 = df[(df.course.str.contains('MATH103') & \n",
      "                df.exam.str.contains('April_2013'))]\n",
      "\n",
      "df_M103_2013['score'] = df['q_short'].apply(add_exam_score)\n",
      "df_M103_2013.head(5)"
     ],
     "language": "python",
     "metadata": {},
     "outputs": [
      {
       "html": [
        "<div style=\"max-height:1000px;max-width:1500px;overflow:auto;\">\n",
        "<table border=\"1\" class=\"dataframe\">\n",
        "  <thead>\n",
        "    <tr style=\"text-align: right;\">\n",
        "      <th></th>\n",
        "      <th>url</th>\n",
        "      <th>course</th>\n",
        "      <th>exam</th>\n",
        "      <th>q_short</th>\n",
        "      <th>num_votes</th>\n",
        "      <th>rating</th>\n",
        "      <th>time</th>\n",
        "      <th>score</th>\n",
        "    </tr>\n",
        "  </thead>\n",
        "  <tbody>\n",
        "    <tr>\n",
        "      <th>368</th>\n",
        "      <td> http://wiki.ubc.ca/Science:Math_Exam_Resources...</td>\n",
        "      <td> MATH103</td>\n",
        "      <td> April_2013</td>\n",
        "      <td> 1 (a)</td>\n",
        "      <td> 24</td>\n",
        "      <td> 57</td>\n",
        "      <td> 148</td>\n",
        "      <td> 81.578947</td>\n",
        "    </tr>\n",
        "    <tr>\n",
        "      <th>369</th>\n",
        "      <td> http://wiki.ubc.ca/Science:Math_Exam_Resources...</td>\n",
        "      <td> MATH103</td>\n",
        "      <td> April_2013</td>\n",
        "      <td> 1 (b)</td>\n",
        "      <td> 17</td>\n",
        "      <td> 51</td>\n",
        "      <td> 246</td>\n",
        "      <td> 55.921053</td>\n",
        "    </tr>\n",
        "    <tr>\n",
        "      <th>370</th>\n",
        "      <td> http://wiki.ubc.ca/Science:Math_Exam_Resources...</td>\n",
        "      <td> MATH103</td>\n",
        "      <td> April_2013</td>\n",
        "      <td> 1 (c)</td>\n",
        "      <td> 26</td>\n",
        "      <td> 25</td>\n",
        "      <td> 281</td>\n",
        "      <td> 32.894737</td>\n",
        "    </tr>\n",
        "    <tr>\n",
        "      <th>371</th>\n",
        "      <td> http://wiki.ubc.ca/Science:Math_Exam_Resources...</td>\n",
        "      <td> MATH103</td>\n",
        "      <td> April_2013</td>\n",
        "      <td> 1 (d)</td>\n",
        "      <td> 19</td>\n",
        "      <td> 76</td>\n",
        "      <td> 140</td>\n",
        "      <td> 73.026316</td>\n",
        "    </tr>\n",
        "    <tr>\n",
        "      <th>372</th>\n",
        "      <td> http://wiki.ubc.ca/Science:Math_Exam_Resources...</td>\n",
        "      <td> MATH103</td>\n",
        "      <td> April_2013</td>\n",
        "      <td> 1 (e)</td>\n",
        "      <td> 12</td>\n",
        "      <td> 43</td>\n",
        "      <td> 178</td>\n",
        "      <td> 64.473684</td>\n",
        "    </tr>\n",
        "  </tbody>\n",
        "</table>\n",
        "</div>"
       ],
       "metadata": {},
       "output_type": "pyout",
       "prompt_number": 13,
       "text": [
        "                                                   url   course        exam  \\\n",
        "368  http://wiki.ubc.ca/Science:Math_Exam_Resources...  MATH103  April_2013   \n",
        "369  http://wiki.ubc.ca/Science:Math_Exam_Resources...  MATH103  April_2013   \n",
        "370  http://wiki.ubc.ca/Science:Math_Exam_Resources...  MATH103  April_2013   \n",
        "371  http://wiki.ubc.ca/Science:Math_Exam_Resources...  MATH103  April_2013   \n",
        "372  http://wiki.ubc.ca/Science:Math_Exam_Resources...  MATH103  April_2013   \n",
        "\n",
        "    q_short  num_votes rating  time      score  \n",
        "368   1 (a)         24     57   148  81.578947  \n",
        "369   1 (b)         17     51   246  55.921053  \n",
        "370   1 (c)         26     25   281  32.894737  \n",
        "371   1 (d)         19     76   140  73.026316  \n",
        "372   1 (e)         12     43   178  64.473684  "
       ]
      }
     ],
     "prompt_number": 13
    },
    {
     "cell_type": "markdown",
     "metadata": {},
     "source": [
      "Looks good. Let's **compare** the two quantities of question easiness **side-by-side**."
     ]
    },
    {
     "cell_type": "code",
     "collapsed": false,
     "input": [
      "ratings = df_M103_2013['rating'].values.astype(float)\n",
      "scores = df_M103_2013['score'].values.astype(float)\n",
      "\n",
      "bar_width = 0.4\n",
      "index = np.arange(len(ratings))\n",
      "alpha = 0.4\n",
      "\n",
      "plt.figure(figsize(14,6))\n",
      "plt.bar(index, ratings, bar_width,\n",
      "        alpha = alpha,\n",
      "        color='b',\n",
      "        label='easiness rating')\n",
      "\n",
      "plt.bar(index + bar_width, scores, bar_width,\n",
      "        alpha = alpha,\n",
      "        color='r',\n",
      "        label='exam score')\n",
      "\n",
      "plt.plot(index+bar_width, [np.mean(ratings) for x in index], 'b', alpha=alpha)\n",
      "plt.plot(index+bar_width, [np.mean(scores) for x in index], 'r', alpha=alpha)\n",
      "plt.legend(loc='upper left')\n",
      "plt.xticks(index+bar_width, df_M103_2013['q_short'].values)\n",
      "plt.xticks(rotation=70)\n",
      "plt.xlabel('question number')\n",
      "plt.ylabel('easiness / exam score')\n",
      "plt.title('Math 103 April 2013 exam')\n",
      "plt.tight_layout()\n",
      "plt.show()"
     ],
     "language": "python",
     "metadata": {},
     "outputs": [
      {
       "metadata": {},
       "output_type": "display_data",
       "png": "[encoded data removed]",
       "text": [
        "<matplotlib.figure.Figure at 0x7f96604c0110>"
       ]
      }
     ],
     "prompt_number": 14
    },
    {
     "cell_type": "markdown",
     "metadata": {},
     "source": [
      "For each question, the left bar can be interpreted as the average prediction that students have about the score they would receive on this question on the exam, and the right bar is the average score that was actually received by students taking that exam in 2013. The **horizontal lines are the average scores** over all questions.\n",
      "\n",
      "### We observe the following:  \n",
      "\n",
      "1. In general, the student's perceived difficulty is pretty close to the real exam score. Student's \"correctly\" identify easy (eg [Q 1 (d)][1], [Q 2 (a)][2]) and difficult (eg [Q 3 (b)][3] and [Q 7 (c)][4]) questions.  \n",
      "2. **Students perform slightly better on the final exam than they think** during their exam preparation.\n",
      "3. The average easiness is very close to the average exam score.\n",
      "\n",
      "However, there are few outliers:\n",
      "\n",
      "A. [Q 7 (e)][5] is perceived as relatively easy but was the question with the lowest score on the exam. This questions **requires a complete solution of the previous parts** of Q 7 and many students received a score of 0 on this question (and previous parts of Q7). So Q7(e) itself is not particularly difficult, and students could solve it, if you know the solution to Q7(a)-(d) (which students on the wiki would). **This is a scenario that an exam designer wants to avoid!**\n",
      "\n",
      "B. [Q 8 (a)][6] is a simple application of the *Fundamental theorem of calculus*. 2014 students perceive this question as the easiest on the entire exam, yet the exam score was below average. Similarly wih [Q 8 (b)][7], another simple application of the Fundamental theorem of calculus.\n",
      "[Q 8(c)][8] can either be solved quickly and elegantly when the Fundamental theorem of calculus is applied, but can also be solved directly after a lengthy computation. Now students perceive the question as much harder, and indeed, the exam score is the lowest among all questions on the Fundamental theorem of calculus. **This shows that 2014 students have a much better grasp of this concept than the 2013 class.**\n",
      "\n",
      "[1]: http://wiki.ubc.ca/Science:Math_Exam_Resources/Courses/MATH103/April_2013/Question_01_(d)\n",
      "[2]: http://wiki.ubc.ca/Science:Math_Exam_Resources/Courses/MATH103/April_2013/Question_02_(a)\n",
      "[3]: http://wiki.ubc.ca/Science:Math_Exam_Resources/Courses/MATH103/April_2013/Question_03_(b)_i\n",
      "[4]: http://wiki.ubc.ca/Science:Math_Exam_Resources/Courses/MATH103/April_2013/Question_07_(c)\n",
      "[5]: http://wiki.ubc.ca/Science:Math_Exam_Resources/Courses/MATH103/April_2013/Question_07_(e)\n",
      "[6]: http://wiki.ubc.ca/Science:Math_Exam_Resources/Courses/MATH103/April_2013/Question_08_(a)\n",
      "[7]: http://wiki.ubc.ca/Science:Math_Exam_Resources/Courses/MATH103/April_2013/Question_08_(b)\n",
      "[8]: http://wiki.ubc.ca/Science:Math_Exam_Resources/Courses/MATH103/April_2013/Question_08_(c)"
     ]
    },
    {
     "cell_type": "markdown",
     "metadata": {},
     "source": [
      "Back to the correlation between the easiness rating and the exam score. We have all the data ready, so let's have a look at the a linear regression."
     ]
    },
    {
     "cell_type": "code",
     "collapsed": false,
     "input": [
      "exam_slope, exam_intercept, exam_r_value, exam_p_value, exam_std_err = stats.linregress(ratings, scores)\n",
      "\n",
      "exam_line = exam_slope*ratings+exam_intercept\n",
      "plt.figure(figsize=(6,6))\n",
      "plt.plot(range(100), range(100), 'b--',\n",
      "         ratings, scores, 'ko',\n",
      "         ratings, exam_line, 'r-')\n",
      "\n",
      "plt.xlabel('Easiness rating')\n",
      "plt.ylabel('Exam score')\n",
      "plt.grid('on')\n",
      "plt.annotate('$r^2$: %.2f \\n$p$: %.1e' %(exam_r_value**2, exam_p_value), xy=(10, 80))\n",
      "for q, r, s in zip(df_M103_2013['q_short'].values, ratings, scores):\n",
      "    plt.annotate(q, xy=(r+1, s+1))\n",
      "plt.xlim(0, 100)\n",
      "plt.ylim(0, 100)\n",
      "plt.show()"
     ],
     "language": "python",
     "metadata": {},
     "outputs": [
      {
       "metadata": {},
       "output_type": "display_data",
       "png": "[encoded data removed]",
       "text": [
        "<matplotlib.figure.Figure at 0x7f96328faf90>"
       ]
      }
     ],
     "prompt_number": 15
    },
    {
     "cell_type": "markdown",
     "metadata": {},
     "source": [
      "The dashed blue line indicates perfect correlation where the average easiness rating corresponds exactly to the average exam score. The slope of the red linear regression line is less than 1 and crosses the identity line close to the average scores. This indicates that **students overperform on questions that they perceive as difficult** and **underperform on questions that they perceive as easy**. Or, spinned the other way around:\n",
      "\n",
      "> *Students tend to rate low-scoring exam questions as too easy, and high-scoring exam questions as too difficult.*\n",
      "\n",
      "Nor surprisingly, the very low $p$-value indicates, that there is a significant correlation between the students' perception of the difficulty of a question and their score on the exam. The low $r^2$-value is more puzzling, but in handsight reveals a flaw in our initial assumption:\n",
      "\n",
      "> *Because of the interdependence of sub-questions and different emphasis on topics, we **should not expect a perfect correlation** between easiness rating and exam score.*\n",
      "\n",
      "Instead, this correlation analysis offers insight into **exam design** and **student understanding** that is *valuable to improve teaching*.\n",
      "\n",
      "More precicely, our analysis allows us to \n",
      "1. reveal flaws in exam design and **quantify** how many points students lose because of that. \n",
      "2. highlight topics that students are particularly good or bad, **compared to other classes**.  \n",
      "\n",
      "Both of these insights could be very valuable in teachers training."
     ]
    },
    {
     "cell_type": "markdown",
     "metadata": {},
     "source": [
      "## Take-home message\n",
      "\n",
      "1. **Time spent on a solution page is a weak predictor** of the difficulty of the question - there are just too many other factors.  \n",
      "2. In general, the **easiness rating is a pretty good predictor** of the difficulty of the question, with a few systematic exceptions.  \n",
      "3. **Bad exam design** can be **detected and quantified**.  \n",
      "4. Topics where students are particularly strong or weak, compared to another instructor or year are identified."
     ]
    },
    {
     "cell_type": "markdown",
     "metadata": {},
     "source": [
      "* Just for fun *\n",
      "\n",
      "Out of curiosity, how much better does the correlation get when I remove the top three questions where we would not expect a high correlation anyway?"
     ]
    },
    {
     "cell_type": "code",
     "collapsed": false,
     "input": [
      "trimmed_q_r_s = [(float(r), float(s)) for q, r, s in zip(df_M103_2013['q_short'], df_M103_2013['rating'], df_M103_2013['score']) if\n",
      "       (not '7 (e)' in q) and (not '8 (a)' in q) and (not '8 (b)' in q)]\n",
      "trimmed_ratings, trimmed_scores = zip(*[(r, s) for r, s in trimmed_q_r_s])\n",
      "trimmed_ratings = np.asarray(trimmed_ratings)\n",
      "trimmed_scores = np.asarray(trimmed_scores)\n",
      "\n",
      "(trimmed_slope, trimmed_intercept, trimmed_r_value, trimmed_p_value,\n",
      " trimmed_std_err) = stats.linregress(trimmed_ratings, trimmed_scores)\n",
      "\n",
      "trimmed_line = trimmed_slope*trimmed_ratings+trimmed_intercept\n",
      "plt.figure(figsize=(6,6))\n",
      "plt.plot(range(100), range(100), 'b--',\n",
      "         trimmed_ratings, trimmed_scores, 'ko',\n",
      "         trimmed_ratings, trimmed_line, 'r-')\n",
      "\n",
      "plt.xlabel('Easiness rating')\n",
      "plt.ylabel('Exam score')\n",
      "plt.grid('on')\n",
      "plt.annotate('$r^2$: %.2f \\n$p$: %.1e' %(trimmed_r_value**2, trimmed_p_value), xy=(10, 80))\n",
      "plt.xlim(0, 100)\n",
      "plt.ylim(0, 100)\n",
      "plt.show()"
     ],
     "language": "python",
     "metadata": {},
     "outputs": [
      {
       "metadata": {},
       "output_type": "display_data",
       "png": "[encoded data removed]",
       "text": [
        "<matplotlib.figure.Figure at 0x7f9632a86e10>"
       ]
      }
     ],
     "prompt_number": 16
    },
    {
     "cell_type": "markdown",
     "metadata": {},
     "source": [
      "Wow, the correlation is much stronger: $p$ is smaller, $r^2$ is much larger!\n",
      "This makes me confident that student ratings can eventually be used to **personalize** practice and practice exams.\n",
      "\n",
      "*Finally, the good news for students is that they typically perform better on the exam than they think :)*\n",
      "\n",
      "\n",
      "#### Fin"
     ]
    },
    {
     "cell_type": "code",
     "collapsed": false,
     "input": [],
     "language": "python",
     "metadata": {},
     "outputs": [],
     "prompt_number": 16
    }
   ],
   "metadata": {}
  }
 ]
}